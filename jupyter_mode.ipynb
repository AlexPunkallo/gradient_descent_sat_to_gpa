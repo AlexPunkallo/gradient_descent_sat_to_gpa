{
 "cells": [
  {
   "cell_type": "markdown",
   "metadata": {},
   "source": [
    "# Predicting GPA from SAT score\n",
    "\n",
    "![Screenshot](front_page.png)\n",
    "\n",
    "This challenge was my very first kaggle (private) competition that I did with my classmates in the beginning of the Fundamentals of Data Science course. I was barely learning how to code at that time.\n",
    "\n",
    "The SAT is a test widely used for college admission in USA. People think that students that achieve high score in SAT, have also the highest GPA during college. In this competition we want to predict the average GPA cumulated by a student in the college, based only on the scores that he/she achieved in SAT.\n",
    "You are given a training dataset, in which each row contain the student ID, SAT score and average GPA cumulated during college. Use this dataset for training your model and then test your model using test dataset. Each row of test dataset contain student ID and SAT score. The resulting CSV file contains the student ID and predicted GPA score for each row of the test dataset. \n",
    "\n",
    "The implemented algorithm is the Gradient Descent, written from scratch.\n",
    "\n",
    "## Acknowledgements\n",
    "Data are part of datasets published on StatCrunch website, exactly in the following URL: https://www.statcrunch.com/app/index.php?dataid=1583665. "
   ]
  },
  {
   "cell_type": "code",
   "execution_count": 1,
   "metadata": {},
   "outputs": [],
   "source": [
    "from numpy import loadtxt, zeros, ones, array, linspace, logspace\n",
    "from pylab import scatter, show, title, xlabel, ylabel, plot, contour\n",
    "import pandas as pd\n",
    "import numpy as np\n",
    "import matplotlib.pyplot as plt\n",
    "from collections import OrderedDict\n",
    "\n",
    "def compute_cost(X, y, theta):\n",
    "    m = y.size\n",
    "    predictions = X.dot(theta).flatten()\n",
    "    sqErrors = (predictions - y) ** 2\n",
    "    J = (1.0 / (2 * m)) * sqErrors.sum()\n",
    "    return J\n",
    "\n",
    "def gradient_descent(X, y, theta, alpha, num_iters):\n",
    "    m = y.size\n",
    "    J_history = zeros(shape=(num_iters, 1))\n",
    "    for i in range(num_iters):\n",
    "        predictions = X.dot(theta).flatten()\n",
    "        errors_x1 = (predictions - y) * X[:, 0]\n",
    "        errors_x2 = (predictions - y) * X[:, 1]\n",
    "        theta[0][0] = theta[0][0] - alpha * (1.0 / m) * errors_x1.sum()\n",
    "        theta[1][0] = theta[1][0] - alpha * (1.0 / m) * errors_x2.sum()\n",
    "        J_history[i, 0] = compute_cost(X, y, theta)\n",
    "    return theta, J_history"
   ]
  },
  {
   "cell_type": "code",
   "execution_count": 2,
   "metadata": {},
   "outputs": [
    {
     "name": "stdout",
     "output_type": "stream",
     "text": [
      "The computational cost is: 5.31246805813\n",
      "Theta values are:\n",
      "[[  2.91717776e-06]\n",
      " [  2.97041436e-03]]\n"
     ]
    },
    {
     "data": {
      "image/png": "[encoded data removed]",
      "text/plain": [
       "<matplotlib.figure.Figure at 0x7f3ea8246750>"
      ]
     },
     "metadata": {},
     "output_type": "display_data"
    }
   ],
   "source": [
    "data=pd.read_csv('training.csv',delimiter=',')\n",
    "X = data[\"SAT\"]\n",
    "y = data[\"GPA\"]\n",
    "\n",
    "m = y.size\n",
    "it = ones(shape=(m, 2)) \n",
    "it[:, 1] = X \n",
    "\n",
    "theta = zeros(shape=(2, 1))\n",
    "iterations = 1500\n",
    "alpha = 0.000000002\n",
    "\n",
    "print 'The computational cost is:', compute_cost(it, y, theta)  #\n",
    "\n",
    "theta, J_history = gradient_descent(it, y, theta, alpha, iterations)\n",
    "\n",
    "print 'Theta values are:'      \n",
    "print theta    \n",
    "\n",
    "result = it.dot(theta).flatten()\n",
    "plt.scatter(data[\"SAT\"],data[\"GPA\"],marker='o')\n",
    "title('GPA/SAT')\n",
    "xlabel('SAT Score')\n",
    "ylabel('GPA Score')\n",
    "plot(data[\"SAT\"], result)\n",
    "show()"
   ]
  },
  {
   "cell_type": "code",
   "execution_count": 3,
   "metadata": {
    "scrolled": false
   },
   "outputs": [
    {
     "name": "stdout",
     "output_type": "stream",
     "text": [
      "     GPA   ID\n",
      "0    2.6  801\n",
      "1    2.8  802\n",
      "2    2.7  803\n",
      "3    3.3  804\n",
      "4    2.2  805\n",
      "5    3.2  806\n",
      "6    2.9  807\n",
      "7    2.9  808\n",
      "8    2.7  809\n",
      "9    3.1  810\n",
      "10   2.5  811\n",
      "11   2.9  812\n",
      "12   2.7  813\n",
      "13   3.2  814\n",
      "14   2.4  815\n",
      "15   2.5  816\n",
      "16   2.5  817\n",
      "17   3.3  818\n",
      "18   3.1  819\n",
      "19   3.4  820\n",
      "20   3.1  821\n",
      "21   3.0  822\n",
      "22   3.2  823\n",
      "23   3.0  824\n",
      "24   3.8  825\n",
      "25   3.0  826\n",
      "26   2.7  827\n",
      "27   2.7  828\n",
      "28   3.1  829\n",
      "29   2.5  830\n",
      "..   ...  ...\n",
      "169  2.6  970\n",
      "170  2.8  971\n",
      "171  3.1  972\n",
      "172  3.4  973\n",
      "173  2.2  974\n",
      "174  3.1  975\n",
      "175  3.0  976\n",
      "176  2.7  977\n",
      "177  2.9  978\n",
      "178  2.6  979\n",
      "179  2.1  980\n",
      "180  2.9  981\n",
      "181  3.4  982\n",
      "182  3.3  983\n",
      "183  2.6  984\n",
      "184  3.5  985\n",
      "185  3.5  986\n",
      "186  2.9  987\n",
      "187  3.0  988\n",
      "188  3.1  989\n",
      "189  3.0  990\n",
      "190  4.2  991\n",
      "191  2.6  992\n",
      "192  3.4  993\n",
      "193  3.1  994\n",
      "194  3.0  995\n",
      "195  3.2  996\n",
      "196  3.4  997\n",
      "197  3.6  998\n",
      "198  2.8  999\n",
      "\n",
      "[199 rows x 2 columns]\n"
     ]
    },
    {
     "name": "stderr",
     "output_type": "stream",
     "text": [
      "/home/alessandro/anaconda3/envs/py27/lib/python2.7/site-packages/ipykernel/__main__.py:7: DeprecationWarning: \n",
      ".ix is deprecated. Please use\n",
      ".loc for label based indexing or\n",
      ".iloc for positional indexing\n",
      "\n",
      "See the documentation here:\n",
      "http://pandas.pydata.org/pandas-docs/stable/indexing.html#ix-indexer-is-deprecated\n"
     ]
    }
   ],
   "source": [
    "from decimal import *\n",
    "data=pd.read_csv('testfile.csv',delimiter=',')\n",
    "X=data[\"SAT\"]\n",
    "vet=ones(X.shape[0])\n",
    "y=theta[0][0]*vet+theta[1][0]*X\n",
    "y=[float(Decimal(\"%.1f\" % i)) for i in y]\n",
    "y=pd.DataFrame({'ID':data.ix[:,0],'GPA':y})\n",
    "y1=y.set_index('ID')\n",
    "y1.to_csv('satgpa.csv')\n",
    "print y"
   ]
  }
 ],
 "metadata": {
  "kernelspec": {
   "display_name": "Python [conda env:py27]",
   "language": "python",
   "name": "conda-env-py27-py"
  },
  "language_info": {
   "codemirror_mode": {
    "name": "ipython",
    "version": 2
   },
   "file_extension": ".py",
   "mimetype": "text/x-python",
   "name": "python",
   "nbconvert_exporter": "python",
   "pygments_lexer": "ipython2",
   "version": "2.7.14"
  }
 },
 "nbformat": 4,
 "nbformat_minor": 2
}
